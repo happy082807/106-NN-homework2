{
 "cells": [
  {
   "cell_type": "code",
   "execution_count": 2,
   "metadata": {
    "collapsed": true
   },
   "outputs": [],
   "source": [
    "import pandas as pd;\n",
    "import datetime as dt;\n",
    "import numpy as np;\n",
    "from sklearn.neural_network import MLPRegressor\n",
    "from sklearn.preprocessing import scale\n",
    "import pickle"
   ]
  },
  {
   "cell_type": "code",
   "execution_count": 3,
   "metadata": {
    "collapsed": true,
    "scrolled": true
   },
   "outputs": [],
   "source": [
    "weather = pd.read_csv(\"../Data/weather (table 7)_training_update.csv\")\n",
    "volume = pd.read_csv(\"../Data/volume(table 6)_training.csv\")\n",
    "\n",
    "# volume\n",
    "volume['time'] =  pd.to_datetime(volume['time'], format = \"%Y-%m-%d %H:%M:%S\")\n",
    "\n",
    "time = []\n",
    "\n",
    "for c in volume['time']:\n",
    "    time.append(c - dt.timedelta(seconds = c.second, minutes = c.minute))\n",
    "    \n",
    "volume['time'] = time\n",
    "\n",
    "volume = volume\\\n",
    "    .groupby(['time', 'tollgate_id', 'direction'])\\\n",
    "    .size()\\\n",
    "    .reset_index()\\\n",
    "    .rename(columns={0:'count'})\n",
    "\n",
    "date = []\n",
    "week = []\n",
    "hour = []\n",
    "\n",
    "for t in volume['time']:\n",
    "    date.append(t - dt.timedelta(hours = t.hour))\n",
    "    week.append(t.weekday())\n",
    "    hour.append(t.hour)\n",
    "\n",
    "volume['date'] = date\n",
    "volume['week'] = week\n",
    "volume['hour'] = hour\n",
    "\n",
    "time_weather = []\n",
    "\n",
    "for c in volume['time']:\n",
    "    discard = dt.timedelta(hours = c.hour % 3, minutes = c.minute, seconds = c.second)\n",
    "    if (discard > dt.timedelta(hours = 1, minutes = 30)):\n",
    "        c = c + dt.timedelta(hours = 3)\n",
    "    time_weather.append(c - discard)\n",
    "    \n",
    "volume['time_weather'] = time_weather\n",
    "\n",
    "# weather\n",
    "weather['time_weather'] = pd.to_timedelta(weather['hour'], unit=\"H\") + pd.to_datetime(weather['date'], format=\"%Y-%m-%d\")\n",
    "del weather['date']\n",
    "del weather['hour']\n",
    "\n",
    "#merge\n",
    "training = pd.merge(volume, weather, on = 'time_weather')\n",
    "\n",
    "#drop\n",
    "#914 - 918\n",
    "droped = training[((training['date'] >= dt.date(year = 2016, day = 14, month = 9)) & \\\n",
    "              (training['date'] <= dt.date(year = 2016, day = 18, month = 9)))]\n",
    "\n",
    "training = training.drop(droped.index)\n",
    "\n",
    "#930 - 1007\n",
    "droped = training[((training['date'] >= dt.date(year = 2016, day = 30, month = 9)) & \\\n",
    "              (training['date'] <= dt.date(year = 2016, day = 7, month = 10)))]\n",
    "\n",
    "training = training.drop(droped.index)\n",
    "\n",
    "#delete columns not need\n",
    "\n",
    "del training['time_weather']\n",
    "del training['date']\n",
    "\n",
    "#re cols\n",
    "training = training[list(training.columns.drop('count')) + ['count']]\n",
    "\n",
    "#output csv\n",
    "training.to_csv('training2.csv', index=False)"
   ]
  },
  {
   "cell_type": "code",
   "execution_count": null,
   "metadata": {
    "collapsed": true
   },
   "outputs": [],
   "source": []
  }
 ],
 "metadata": {
  "kernelspec": {
   "display_name": "Python 3",
   "language": "python",
   "name": "python3"
  },
  "language_info": {
   "codemirror_mode": {
    "name": "ipython",
    "version": 3
   },
   "file_extension": ".py",
   "mimetype": "text/x-python",
   "name": "python",
   "nbconvert_exporter": "python",
   "pygments_lexer": "ipython3",
   "version": "3.5.3"
  }
 },
 "nbformat": 4,
 "nbformat_minor": 2
}
