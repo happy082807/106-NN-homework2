{
 "cells": [
  {
   "cell_type": "code",
   "execution_count": 1,
   "metadata": {
    "collapsed": true
   },
   "outputs": [],
   "source": [
    "import pandas as pd;\n",
    "import datetime as dt;\n",
    "import numpy as np;\n",
    "from sklearn.neural_network import MLPRegressor\n",
    "from sklearn.preprocessing import scale\n",
    "import pickle"
   ]
  },
  {
   "cell_type": "code",
   "execution_count": 6,
   "metadata": {
    "scrolled": true
   },
   "outputs": [],
   "source": [
    "submission = pd.DataFrame(columns = ['tollgate_id', 'time_window', 'direction', 'volume', 'time'])\n",
    "\n",
    "#submission\n",
    "time = dt.datetime(year = 2016, month = 10, day = 25, hour = 8, minute = 0, second = 0)\n",
    "\n",
    "t_d_pair = [[1, 0], [1, 1], [2, 0], [3, 0], [3, 1]]\n",
    "\n",
    "time_window = []\n",
    "date = dt.datetime(year = 2016, month = 10, day = 25)\n",
    "\n",
    "for i in range(7):\n",
    "    #8~10\n",
    "    running_time = date + dt.timedelta(hours = 8);\n",
    "    max_time = running_time + dt.timedelta(hours = 2);\n",
    "    \n",
    "    while running_time < max_time:\n",
    "        time_window.append(running_time)\n",
    "        running_time += dt.timedelta(minutes = 20)\n",
    "    \n",
    "    #17~19\n",
    "    running_time = date + dt.timedelta(hours = 17);\n",
    "    max_time = running_time + dt.timedelta(hours = 2);\n",
    "    \n",
    "    while running_time < max_time:\n",
    "        time_window.append(running_time)\n",
    "        running_time += dt.timedelta(minutes = 20)\n",
    "    \n",
    "    #date +1\n",
    "    date += dt.timedelta(days = 1)\n",
    "\n",
    "for td in t_d_pair:\n",
    "    for t in time_window:\n",
    "        time_str = \"[\" + t.strftime(\"%Y-%m-%d %H:%M:%S\") + ','\n",
    "        time_str += (t + dt.timedelta(minutes = 20)).strftime(\"%Y-%m-%d %H:%M:%S\") + ')'\n",
    "        submission = submission.append({\"tollgate_id\":td[0],\\\n",
    "                     \"time_window\":time_str,\\\n",
    "                     'direction':td[1],\\\n",
    "                     'volume':0, \\\n",
    "                     'time':t}, ignore_index=True);\n",
    "        \n",
    "\n",
    "time_weather = []\n",
    "\n",
    "for c in submission['time']:\n",
    "    discard = dt.timedelta(hours = c.hour % 3, minutes = c.minute, seconds = c.second)\n",
    "    if (discard > dt.timedelta(hours = 1, minutes = 30)):\n",
    "        c = c + dt.timedelta(hours = 3)\n",
    "    time_weather.append(c - discard)\n",
    "    \n",
    "submission['time_weather'] = time_weather\n",
    "\n",
    "# weather\n",
    "weather = pd.read_csv(\"../Data/weather (table 7)_2.csv\")\n",
    "weather['time_weather'] = pd.to_timedelta(weather['hour'], unit=\"H\") + pd.to_datetime(weather['date'], format=\"%Y-%m-%d\")\n",
    "\n",
    "del weather['date']\n",
    "del weather['hour']\n",
    "\n",
    "# merge\n",
    "submission = pd.merge(submission, weather, on = 'time_weather')\n",
    "\n",
    "week = []\n",
    "hour = []\n",
    "minute = []\n",
    "\n",
    "for c in submission['time']:\n",
    "    week.append(c.weekday())\n",
    "    hour.append(c.hour)\n",
    "    minute.append(c.minute)\n",
    "        \n",
    "submission['week'] = week\n",
    "submission['hour'] = hour\n",
    "submission['minute'] = minute\n",
    "\n",
    "del submission['time']\n",
    "del submission['time_weather']\n",
    "\n",
    "\n",
    "submission[['tollgate_id', 'direction', 'week', 'hour', 'minute' , 'volume']] = submission[['tollgate_id', 'direction', 'week', 'hour', 'minute' , 'volume']].astype(float)\n",
    "submission.to_csv('submission2.csv', index=False)"
   ]
  },
  {
   "cell_type": "code",
   "execution_count": 9,
   "metadata": {},
   "outputs": [
    {
     "data": {
      "text/plain": [
       "tollgate_id       float64\n",
       "time_window        object\n",
       "direction         float64\n",
       "volume             object\n",
       "pressure          float64\n",
       "sea_pressure      float64\n",
       "wind_direction    float64\n",
       "wind_speed        float64\n",
       "temperature       float64\n",
       "rel_humidity      float64\n",
       "precipitation     float64\n",
       "week              float64\n",
       "hour              float64\n",
       "minute            float64\n",
       "count             float64\n",
       "dtype: object"
      ]
     },
     "execution_count": 9,
     "metadata": {},
     "output_type": "execute_result"
    }
   ],
   "source": [
    "submission.dtypes"
   ]
  },
  {
   "cell_type": "code",
   "execution_count": null,
   "metadata": {
    "collapsed": true
   },
   "outputs": [],
   "source": []
  }
 ],
 "metadata": {
  "kernelspec": {
   "display_name": "Python 3",
   "language": "python",
   "name": "python3"
  },
  "language_info": {
   "codemirror_mode": {
    "name": "ipython",
    "version": 3
   },
   "file_extension": ".py",
   "mimetype": "text/x-python",
   "name": "python",
   "nbconvert_exporter": "python",
   "pygments_lexer": "ipython3",
   "version": "3.5.3"
  }
 },
 "nbformat": 4,
 "nbformat_minor": 2
}
