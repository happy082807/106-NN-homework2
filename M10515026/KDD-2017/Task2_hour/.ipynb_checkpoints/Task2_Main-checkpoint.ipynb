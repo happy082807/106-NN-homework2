{
 "cells": [
  {
   "cell_type": "code",
   "execution_count": 5,
   "metadata": {},
   "outputs": [],
   "source": [
    "import pandas as pd;\n",
    "import datetime as dt;\n",
    "import numpy as np;\n",
    "from sklearn.neural_network import MLPRegressor\n",
    "from sklearn.preprocessing import scale\n",
    "import pickle\n",
    "import xgboost as xgb\n",
    "from sklearn.ensemble import RandomForestRegressor"
   ]
  },
  {
   "cell_type": "code",
   "execution_count": 6,
   "metadata": {
    "scrolled": true
   },
   "outputs": [
    {
     "name": "stderr",
     "output_type": "stream",
     "text": [
      "C:\\Users\\Eric\\Anaconda3\\lib\\site-packages\\sklearn\\neural_network\\multilayer_perceptron.py:1266: DataConversionWarning: A column-vector y was passed when a 1d array was expected. Please change the shape of y to (n_samples, ), for example using ravel().\n",
      "  y = column_or_1d(y, warn=True)\n"
     ]
    }
   ],
   "source": [
    "training = pd.read_csv('training2.csv')\n",
    "del training['time']\n",
    "\n",
    "\n",
    "X = training.iloc[:, :-1]\n",
    "y = training.iloc[:, -1:]\n",
    "\n",
    "X_max = X.max()\n",
    "X = X / X_max\n",
    "\n",
    "#NN\n",
    "\n",
    "hl = [40, 30, 20]\n",
    "reg = MLPRegressor(\\\n",
    "                   solver='adam',\\\n",
    "                   hidden_layer_sizes = hl,\\\n",
    "                   max_iter = 200000,\\\n",
    "                   learning_rate = 'adaptive',\\\n",
    "                   learning_rate_init = 0.1,\\\n",
    "                   activation = 'relu') \n",
    "reg.fit(X, y)\n",
    "\n",
    "# Xgb\n",
    "xgb_model = xgb.XGBRegressor(max_depth=5, n_estimators=50, min_child_weight=1, gamma=0.9).fit(X,y)"
   ]
  },
  {
   "cell_type": "code",
   "execution_count": 8,
   "metadata": {},
   "outputs": [],
   "source": [
    "submission = pd.read_csv('submission2.csv')\n",
    "submission_ori = submission.copy()\n",
    "del submission['time_window']\n",
    "del submission['volume']\n",
    "\n",
    "X_submission = submission[X.columns] / X_max\n",
    "submission_ori['volume'] = xgb_model.predict(X_submission) / 3\n",
    "submission['volume'] = submission_ori['volume'] * 3\n",
    "submission_ori = submission_ori[submission_ori.columns[0:4]]\n",
    "submission_ori.to_csv('submission2_result.csv', index=False)"
   ]
  }
 ],
 "metadata": {
  "kernelspec": {
   "display_name": "Python 3",
   "language": "python",
   "name": "python3"
  },
  "language_info": {
   "codemirror_mode": {
    "name": "ipython",
    "version": 3
   },
   "file_extension": ".py",
   "mimetype": "text/x-python",
   "name": "python",
   "nbconvert_exporter": "python",
   "pygments_lexer": "ipython3",
   "version": "3.5.3"
  }
 },
 "nbformat": 4,
 "nbformat_minor": 2
}
